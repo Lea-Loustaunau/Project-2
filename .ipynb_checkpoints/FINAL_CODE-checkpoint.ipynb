{
 "cells": [
  {
   "cell_type": "code",
   "execution_count": 1,
   "metadata": {},
   "outputs": [],
   "source": [
    "import pandas as pd\n",
    "import json\n",
    "from ast import literal_eval\n",
    "from pandas.io.json import json_normalize\n",
    "from datetime import datetime\n",
    "import re\n",
    "import requests\n",
    "import numpy as np\n",
    "from sqlalchemy import create_engine\n",
    "import datetime"
   ]
  },
  {
   "cell_type": "markdown",
   "metadata": {},
   "source": [
    "FRANCHISE TABLE"
   ]
  },
  {
   "cell_type": "code",
   "execution_count": 2,
   "metadata": {},
   "outputs": [],
   "source": [
    "#Pull website data and extract table\n",
    "url = 'https://www.the-numbers.com/movies/franchises'\n",
    "\n",
    "response = requests.get(url)\n",
    "\n",
    "tables = pd.read_html(response.text)\n",
    "\n",
    "f_all_data_df = tables[0]"
   ]
  },
  {
   "cell_type": "code",
   "execution_count": 3,
   "metadata": {},
   "outputs": [],
   "source": [
    "#Keep relevant rows: Franchise name and Worldwide Box Office\n",
    "franchise_df = f_all_data_df[[\"Franchise\", \"Worldwide Box Office\"]]"
   ]
  },
  {
   "cell_type": "code",
   "execution_count": 4,
   "metadata": {},
   "outputs": [
    {
     "name": "stderr",
     "output_type": "stream",
     "text": [
      "C:\\Users\\kirst\\AppData\\Local\\Continuum\\anaconda3\\lib\\site-packages\\ipykernel_launcher.py:2: SettingWithCopyWarning: \n",
      "A value is trying to be set on a copy of a slice from a DataFrame.\n",
      "Try using .loc[row_indexer,col_indexer] = value instead\n",
      "\n",
      "See the caveats in the documentation: http://pandas.pydata.org/pandas-docs/stable/user_guide/indexing.html#returning-a-view-versus-a-copy\n",
      "  \n",
      "C:\\Users\\kirst\\AppData\\Local\\Continuum\\anaconda3\\lib\\site-packages\\ipykernel_launcher.py:3: SettingWithCopyWarning: \n",
      "A value is trying to be set on a copy of a slice from a DataFrame.\n",
      "Try using .loc[row_indexer,col_indexer] = value instead\n",
      "\n",
      "See the caveats in the documentation: http://pandas.pydata.org/pandas-docs/stable/user_guide/indexing.html#returning-a-view-versus-a-copy\n",
      "  This is separate from the ipykernel package so we can avoid doing imports until\n",
      "C:\\Users\\kirst\\AppData\\Local\\Continuum\\anaconda3\\lib\\site-packages\\ipykernel_launcher.py:4: SettingWithCopyWarning: \n",
      "A value is trying to be set on a copy of a slice from a DataFrame.\n",
      "Try using .loc[row_indexer,col_indexer] = value instead\n",
      "\n",
      "See the caveats in the documentation: http://pandas.pydata.org/pandas-docs/stable/user_guide/indexing.html#returning-a-view-versus-a-copy\n",
      "  after removing the cwd from sys.path.\n",
      "C:\\Users\\kirst\\AppData\\Local\\Continuum\\anaconda3\\lib\\site-packages\\pandas\\core\\frame.py:4263: SettingWithCopyWarning: \n",
      "A value is trying to be set on a copy of a slice from a DataFrame\n",
      "\n",
      "See the caveats in the documentation: http://pandas.pydata.org/pandas-docs/stable/user_guide/indexing.html#returning-a-view-versus-a-copy\n",
      "  method=method,\n",
      "C:\\Users\\kirst\\AppData\\Local\\Continuum\\anaconda3\\lib\\site-packages\\ipykernel_launcher.py:7: SettingWithCopyWarning: \n",
      "A value is trying to be set on a copy of a slice from a DataFrame\n",
      "\n",
      "See the caveats in the documentation: http://pandas.pydata.org/pandas-docs/stable/user_guide/indexing.html#returning-a-view-versus-a-copy\n",
      "  import sys\n"
     ]
    }
   ],
   "source": [
    "#Remove currency formatting and drop franchises with no value or 0  \n",
    "franchise_df['Worldwide Box Office'] = franchise_df['Worldwide Box Office'].str.replace(',', '')\n",
    "franchise_df['Worldwide Box Office'] = franchise_df['Worldwide Box Office'].str.replace('$', '')\n",
    "franchise_df['Worldwide Box Office'] = franchise_df['Worldwide Box Office'].astype(float)\n",
    "\n",
    "franchise_df.replace(0, np.nan, inplace=True)\n",
    "franchise_df.dropna(inplace=True)"
   ]
  },
  {
   "cell_type": "code",
   "execution_count": 5,
   "metadata": {},
   "outputs": [],
   "source": [
    "#Export franchise data\n",
    "#franchise_df.to_csv('franchise_df.csv', index=False)"
   ]
  },
  {
   "cell_type": "code",
   "execution_count": 7,
   "metadata": {},
   "outputs": [],
   "source": [
    "#Read metadata CSV\n",
    "csv_file = \"Resources/movies_metadata.csv\"\n",
    "\n",
    "metadata_df = pd.read_csv(csv_file, header= 0, encoding= 'unicode_escape', low_memory=False)"
   ]
  },
  {
   "cell_type": "code",
   "execution_count": 8,
   "metadata": {},
   "outputs": [],
   "source": [
    "#Keep relevant rows: original_title, collection, revenue. Drop rows with 0 value\n",
    "franchise_single = metadata_df[['original_title', 'id', 'belongs_to_collection', 'revenue']]\n",
    "\n",
    "franchise_single.astype({'revenue': 'float64'}).dtypes\n",
    "\n",
    "franchise_single = franchise_single.query(\"revenue > 0\")\n",
    "franchise_single = franchise_single.reset_index(drop=True)\n",
    "franchise_single.dropna(inplace=True)\n"
   ]
  },
  {
   "cell_type": "code",
   "execution_count": 9,
   "metadata": {},
   "outputs": [],
   "source": [
    "#Export data for individual movies\n",
    "#franchise_single.to_csv('metadata_franchise.csv', index=False)"
   ]
  },
  {
   "cell_type": "code",
   "execution_count": 10,
   "metadata": {},
   "outputs": [],
   "source": [
    "#Create empty dataframe for final table\n",
    "franchise_table = pd.DataFrame (columns = ['franchise', 'movie_title', 'movie_id', 'movie_revenue', \n",
    "                                       'total_franchise_revenue', 'percent_franchise_rev'])"
   ]
  },
  {
   "cell_type": "code",
   "execution_count": 11,
   "metadata": {},
   "outputs": [
    {
     "name": "stderr",
     "output_type": "stream",
     "text": [
      "C:\\Users\\kirst\\AppData\\Local\\Continuum\\anaconda3\\lib\\site-packages\\pandas\\core\\strings.py:1843: UserWarning: This pattern has match groups. To actually get the groups, use str.extract.\n",
      "  return func(self, *args, **kwargs)\n"
     ]
    }
   ],
   "source": [
    "#Match if collection contains franchise name and input desired data into final table\n",
    "for idx, fn in franchise_df.iterrows():\n",
    "    search = fn[\"Franchise\"]\n",
    "    wwbo = fn[\"Worldwide Box Office\"]\n",
    "    title_match = franchise_single[\"belongs_to_collection\"].str.contains(search)\n",
    "    indexes = (title_match[title_match==True].index.values)\n",
    "    \n",
    "    revenue = franchise_single.loc[indexes, 'revenue'] \n",
    "    movie_title = franchise_single.loc[indexes, 'original_title'] \n",
    "    movie_id = franchise_single.loc[indexes, 'id']\n",
    "    franchise_performance = (revenue / wwbo)*100\n",
    "\n",
    "    final_data = {'franchise': search, 'movie_title': movie_title, 'movie_id': movie_id, 'movie_revenue': revenue, \n",
    "                  'total_franchise_revenue': wwbo, 'percent_franchise_rev': franchise_performance}\n",
    "    franchise_table = franchise_table.append(pd.DataFrame(final_data, columns= ['franchise', 'movie_title', 'movie_id', \n",
    "                                                                        'movie_revenue', 'total_franchise_revenue', \n",
    "                                                                        'percent_franchise_rev']),ignore_index=True)"
   ]
  },
  {
   "cell_type": "code",
   "execution_count": 12,
   "metadata": {},
   "outputs": [],
   "source": [
    "#Clean final table\n",
    "delete='[REC]'\n",
    "\n",
    "franchise_table_final = franchise_table[franchise_table.franchise != delete]\n",
    "\n",
    "#Test final table view\n",
    "#franchise_table_final\n",
    "\n",
    "#Export final table to CSV\n",
    "franchise_table_final.to_csv('Output/Franchise_Performance_By_Movie.csv', index=False)"
   ]
  },
  {
   "cell_type": "markdown",
   "metadata": {},
   "source": [
    "PRODUCTION COMPANY TABLE"
   ]
  },
  {
   "cell_type": "code",
   "execution_count": 12,
   "metadata": {
    "scrolled": true
   },
   "outputs": [
    {
     "name": "stderr",
     "output_type": "stream",
     "text": [
      "C:\\Users\\kirst\\AppData\\Local\\Continuum\\anaconda3\\lib\\site-packages\\IPython\\core\\interactiveshell.py:3058: DtypeWarning: Columns (10) have mixed types. Specify dtype option on import or set low_memory=False.\n",
      "  interactivity=interactivity, compiler=compiler, result=result)\n"
     ]
    }
   ],
   "source": [
    "csv_file = \"Resources/movies_metadata.csv\"\n",
    "\n",
    "ratings_data = \"movie_ratings.csv\"\n",
    "\n",
    "# df = pd.read_csv(csv_file,'unicode_escape')\n",
    "\n",
    "movies_df = pd.read_csv(csv_file, header= 0, encoding= 'unicode_escape')\n",
    "\n",
    "ratings_df = pd.read_csv(ratings_data)\n",
    "\n",
    "# csv_file.encode('utf-8').strip(csv_file)"
   ]
  },
  {
   "cell_type": "code",
   "execution_count": 13,
   "metadata": {},
   "outputs": [
    {
     "data": {
      "text/plain": [
       "['TriStar Pictures', 'Teitler Film', 'Interscope Communications']"
      ]
     },
     "execution_count": 13,
     "metadata": {},
     "output_type": "execute_result"
    }
   ],
   "source": [
    "prod_company = movies_df[[\"id\", \"production_companies\"]]\n",
    "\n",
    "x = movies_df[\"production_companies\"][1]\n",
    "\n",
    "eval(x)\n",
    "\n",
    "[y[\"name\"] for y in eval(x)]"
   ]
  },
  {
   "cell_type": "code",
   "execution_count": 14,
   "metadata": {},
   "outputs": [
    {
     "data": {
      "text/plain": [
       "True"
      ]
     },
     "execution_count": 14,
     "metadata": {},
     "output_type": "execute_result"
    }
   ],
   "source": [
    "all(map(lambda z: isinstance(z, dict), eval(x)))"
   ]
  },
  {
   "cell_type": "code",
   "execution_count": 15,
   "metadata": {},
   "outputs": [
    {
     "data": {
      "text/plain": [
       "True"
      ]
     },
     "execution_count": 15,
     "metadata": {},
     "output_type": "execute_result"
    }
   ],
   "source": [
    "isinstance(eval(x), list)"
   ]
  },
  {
   "cell_type": "code",
   "execution_count": 16,
   "metadata": {},
   "outputs": [],
   "source": [
    "#GOAL: select the name of the company from the original string\n",
    "def get_company_name(x): \n",
    "    if isinstance(x, str):\n",
    "        x_eval = eval(x)\n",
    "        if isinstance(x_eval, list):\n",
    "            if all(map(lambda z: isinstance(z, dict), x_eval)):\n",
    "                return [y[\"name\"] for y in x_eval]\n",
    "    else: \n",
    "        return None #\"NA\"\n",
    "\n",
    "#GOAL: Applying 1st function while avoiding error messages / try_get_company_name\n",
    "def get_company_name2(x):\n",
    "    try: \n",
    "        r = get_company_name(x)\n",
    "    except: \n",
    "        r = None #\"NA\"\n",
    "    return r\n",
    "    \n",
    "movies_df[\"production_companies_clean\"] = movies_df[\"production_companies\"].apply(get_company_name2)"
   ]
  },
  {
   "cell_type": "code",
   "execution_count": 17,
   "metadata": {},
   "outputs": [],
   "source": [
    "movies_df.to_csv('new_movie_metadata.csv', index=False)"
   ]
  },
  {
   "cell_type": "markdown",
   "metadata": {},
   "source": [
    "CLEAN MASTER TABLE, RATINGS TABLE"
   ]
  },
  {
   "cell_type": "code",
   "execution_count": 18,
   "metadata": {},
   "outputs": [],
   "source": [
    "movies_df = movies_df.drop(['adult', 'belongs_to_collection', 'homepage', 'original_language',\n",
    "                'original_title', 'overview', 'popularity', 'poster_path', 'production_countries',\n",
    "                'runtime', 'spoken_languages', 'status', 'tagline', 'video', 'vote_count'], axis=1)"
   ]
  },
  {
   "cell_type": "code",
   "execution_count": 19,
   "metadata": {},
   "outputs": [],
   "source": [
    "#renaming the columns\n",
    "movies_df = movies_df.rename(columns={'budget': 'production_budget', 'id': 'movie_id', 'title': 'movie_name', \n",
    "                                      'vote_average': 'imdb_rating'})"
   ]
  },
  {
   "cell_type": "code",
   "execution_count": 20,
   "metadata": {},
   "outputs": [],
   "source": [
    "# Drop duplicate movie IDs\n",
    "\n",
    "movies_df = movies_df.drop_duplicates(subset='movie_id', keep='first', inplace=False)"
   ]
  },
  {
   "cell_type": "code",
   "execution_count": 21,
   "metadata": {},
   "outputs": [],
   "source": [
    "# Drop all blank movie ID's\n",
    "\n",
    "movies_df = movies_df.dropna(subset=['movie_id'])"
   ]
  },
  {
   "cell_type": "code",
   "execution_count": 22,
   "metadata": {},
   "outputs": [],
   "source": [
    "# Removing the 0's before movie_id \n",
    "\n",
    "movies_df['movie_id'] = movies_df['movie_id'].astype(str).str.replace('\\D+', '')"
   ]
  },
  {
   "cell_type": "code",
   "execution_count": 23,
   "metadata": {},
   "outputs": [],
   "source": [
    "# Setting movie_id to int\n",
    "\n",
    "movies_df['movie_id'] = movies_df['movie_id'].apply(lambda x: int(x))"
   ]
  },
  {
   "cell_type": "code",
   "execution_count": 24,
   "metadata": {},
   "outputs": [],
   "source": [
    "#working on the RATING CSV here\n",
    "ratings_df = ratings_df.groupby(['movieId'], as_index = False).mean()"
   ]
  },
  {
   "cell_type": "code",
   "execution_count": 25,
   "metadata": {},
   "outputs": [],
   "source": [
    "# Add rating to movies_df\n",
    "\n",
    "movies_df['rating'] = movies_df.movie_id.map(ratings_df.set_index('movieId')['rating'].to_dict())"
   ]
  },
  {
   "cell_type": "code",
   "execution_count": 26,
   "metadata": {},
   "outputs": [],
   "source": [
    "#Final ratings table, sort\n",
    "ratings_table = movies_df[[\"movie_name\", \"movie_id\", \"rating\"]]\n",
    "ratings_table = ratings_table.sort_values(by='rating', ascending=False)"
   ]
  },
  {
   "cell_type": "markdown",
   "metadata": {},
   "source": [
    "FINAL TABLES"
   ]
  },
  {
   "cell_type": "code",
   "execution_count": 27,
   "metadata": {},
   "outputs": [],
   "source": [
    "#Final master table\n",
    "movies_master_df = movies_df[[\"movie_id\", \"movie_name\", \"release_date\", \n",
    "                            \"rating\", \"revenue\", \"production_companies_clean\", \"production_budget\"]]\n",
    "\n",
    "#Final production table\n",
    "production_table = movies_df[[\"movie_name\", \"movie_id\", \"production_companies_clean\", \"production_budget\"]]"
   ]
  },
  {
   "cell_type": "code",
   "execution_count": 28,
   "metadata": {},
   "outputs": [],
   "source": [
    "#Final ratings table\n",
    "#ratings_table\n",
    "\n",
    "#Final franchise table\n",
    "#franchise_table"
   ]
  },
  {
   "cell_type": "markdown",
   "metadata": {},
   "source": [
    "LOAD TABLES"
   ]
  },
  {
   "cell_type": "code",
   "execution_count": 29,
   "metadata": {},
   "outputs": [],
   "source": [
    "# Create connection\n",
    "connection = \"postgres:postgres@localhost:5432/MOVIES_TEST_db\"\n",
    "engine = create_engine(f'postgresql://{connection}')"
   ]
  },
  {
   "cell_type": "code",
   "execution_count": 30,
   "metadata": {},
   "outputs": [],
   "source": [
    "# Load dataframes into tables\n",
    "movies_master_df.to_sql(name='movies_master', con=engine, if_exists='append', index=False)\n",
    "production_table.to_sql(name='production', con=engine, if_exists='append', index=False)\n",
    "ratings_table.to_sql(name='ratings', con=engine, if_exists='append', index=False)\n",
    "franchise_table.to_sql(name='franchises', con=engine, if_exists='append', index=False)"
   ]
  }
 ],
 "metadata": {
  "kernelspec": {
   "display_name": "Python 3",
   "language": "python",
   "name": "python3"
  },
  "language_info": {
   "codemirror_mode": {
    "name": "ipython",
    "version": 3
   },
   "file_extension": ".py",
   "mimetype": "text/x-python",
   "name": "python",
   "nbconvert_exporter": "python",
   "pygments_lexer": "ipython3",
   "version": "3.7.4"
  }
 },
 "nbformat": 4,
 "nbformat_minor": 2
}
