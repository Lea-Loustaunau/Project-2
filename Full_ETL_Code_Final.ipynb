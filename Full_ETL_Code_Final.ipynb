{
 "cells": [
  {
   "cell_type": "markdown",
   "metadata": {},
   "source": [
    "# Full Final Code"
   ]
  },
  {
   "cell_type": "code",
   "execution_count": 1,
   "metadata": {},
   "outputs": [],
   "source": [
    "import pandas as pd\n",
    "import requests\n",
    "import numpy as np\n",
    "import json\n",
    "from ast import literal_eval\n",
    "from pandas.io.json import json_normalize\n",
    "from datetime import datetime\n",
    "import re"
   ]
  },
  {
   "cell_type": "markdown",
   "metadata": {},
   "source": [
    "Cleaning movies_metadata || Completed by Lea"
   ]
  },
  {
   "cell_type": "code",
   "execution_count": 2,
   "metadata": {
    "scrolled": true
   },
   "outputs": [
    {
     "name": "stderr",
     "output_type": "stream",
     "text": [
      "C:\\Users\\Lealo\\Anaconda3\\lib\\site-packages\\IPython\\core\\interactiveshell.py:3058: DtypeWarning: Columns (10) have mixed types. Specify dtype option on import or set low_memory=False.\n",
      "  interactivity=interactivity, compiler=compiler, result=result)\n"
     ]
    },
    {
     "data": {
      "text/plain": [
       "Index(['adult', 'belongs_to_collection', 'budget', 'genres', 'homepage', 'id',\n",
       "       'imdb_id', 'original_language', 'original_title', 'overview',\n",
       "       'popularity', 'poster_path', 'production_companies',\n",
       "       'production_countries', 'release_date', 'revenue', 'runtime',\n",
       "       'spoken_languages', 'status', 'tagline', 'title', 'video',\n",
       "       'vote_average', 'vote_count'],\n",
       "      dtype='object')"
      ]
     },
     "execution_count": 2,
     "metadata": {},
     "output_type": "execute_result"
    }
   ],
   "source": [
    "# Data Source 1 - movies_metadata \n",
    "\n",
    "movie_data = \"movies_metadata.csv\"\n",
    "movies_df = pd.read_csv(movie_data)\n",
    "movies_df.columns"
   ]
  },
  {
   "cell_type": "code",
   "execution_count": 3,
   "metadata": {},
   "outputs": [],
   "source": [
    "# Remove Unwanted Columns\n",
    "\n",
    "movies_df = movies_df.drop(['adult', 'belongs_to_collection', 'genres', 'homepage', 'original_language',\n",
    "                'original_title', 'overview', 'popularity', 'poster_path', 'production_countries',\n",
    "                'runtime', 'spoken_languages', 'status', 'tagline', 'video', 'vote_count'], axis=1)"
   ]
  },
  {
   "cell_type": "code",
   "execution_count": 4,
   "metadata": {},
   "outputs": [],
   "source": [
    "# Rename Columns - NOTE: Haven't actually processed this one because our individual code might rely on specific naming. \n",
    "\n",
    "# Non-permanent code:\n",
    "##movies_df.rename(columns={'budget': 'production_budget', 'id': 'movie_id', 'title': 'movie_name', 'vote_average': 'imdb_rating'})\n",
    "\n",
    "# Permanent code:\n",
    "movies_df = movies_df.rename(columns={'budget': 'production_budget', 'id': 'movie_id', 'title': 'movie_name', \n",
    "                                      'vote_average': 'imdb_rating'})\n"
   ]
  },
  {
   "cell_type": "markdown",
   "metadata": {},
   "source": [
    "Adding MovieLens Ratings to movies_df || Completed by Lea"
   ]
  },
  {
   "cell_type": "code",
   "execution_count": 5,
   "metadata": {},
   "outputs": [],
   "source": [
    "# Drop all blank movie ID's\n",
    "\n",
    "movies_df = movies_df.dropna(subset=['movie_id'])"
   ]
  },
  {
   "cell_type": "code",
   "execution_count": 6,
   "metadata": {},
   "outputs": [],
   "source": [
    "# Removing the 0's before movie_id \n",
    "\n",
    "movies_df['movie_id'] = movies_df['movie_id'].astype(str).str.replace('\\D+', '')"
   ]
  },
  {
   "cell_type": "code",
   "execution_count": 7,
   "metadata": {},
   "outputs": [],
   "source": [
    "# Setting movie_id to int\n",
    "\n",
    "movies_df['movie_id'] = movies_df['movie_id'].apply(lambda x: int(x))"
   ]
  },
  {
   "cell_type": "code",
   "execution_count": 8,
   "metadata": {},
   "outputs": [],
   "source": [
    "# Data Source 2 - ratings \n",
    "\n",
    "ratings_data = \"ratings.csv\"\n",
    "ratings_df = pd.read_csv(ratings_data)"
   ]
  },
  {
   "cell_type": "code",
   "execution_count": 9,
   "metadata": {},
   "outputs": [],
   "source": [
    "ratings_df = ratings_df.groupby(['movieId'], as_index = False).mean()"
   ]
  },
  {
   "cell_type": "code",
   "execution_count": 10,
   "metadata": {
    "scrolled": true
   },
   "outputs": [],
   "source": [
    "# Add rating to movies_df\n",
    "\n",
    "movies_df['rating'] = movies_df.movie_id.map(ratings_df.set_index('movieId')['rating'].to_dict())"
   ]
  },
  {
   "cell_type": "markdown",
   "metadata": {},
   "source": [
    "Production Company Parsing || Completed by Brian"
   ]
  },
  {
   "cell_type": "code",
   "execution_count": 11,
   "metadata": {},
   "outputs": [],
   "source": [
    "csv_file = \"movies_metadata.csv\"\n",
    "\n",
    "# df = pd.read_csv(csv_file,'unicode_escape')\n",
    "\n",
    "df = pd.read_csv(csv_file, header= 0, encoding= 'unicode_escape')\n",
    "\n",
    "# csv_file.encode('utf-8').strip(csv_file)"
   ]
  },
  {
   "cell_type": "code",
   "execution_count": 12,
   "metadata": {},
   "outputs": [],
   "source": [
    "# Step 2: Isolation of columns that are relevant\n",
    "movie_genres = df[['id', 'genres']]"
   ]
  },
  {
   "cell_type": "code",
   "execution_count": 14,
   "metadata": {},
   "outputs": [],
   "source": [
    "prod_company = df[[\"id\", \"production_companies\"]]"
   ]
  },
  {
   "cell_type": "code",
   "execution_count": 16,
   "metadata": {},
   "outputs": [
    {
     "ename": "TypeError",
     "evalue": "'bool' object is not iterable",
     "output_type": "error",
     "traceback": [
      "\u001b[1;31m---------------------------------------------------------------------------\u001b[0m",
      "\u001b[1;31mTypeError\u001b[0m                                 Traceback (most recent call last)",
      "\u001b[1;32m<ipython-input-16-e6a07b3e0482>\u001b[0m in \u001b[0;36m<module>\u001b[1;34m\u001b[0m\n\u001b[0;32m      4\u001b[0m     \u001b[0mcompany_list\u001b[0m \u001b[1;33m=\u001b[0m \u001b[1;33m[\u001b[0m\u001b[1;33m]\u001b[0m\u001b[1;33m\u001b[0m\u001b[1;33m\u001b[0m\u001b[0m\n\u001b[0;32m      5\u001b[0m     \u001b[1;32mtry\u001b[0m\u001b[1;33m:\u001b[0m\u001b[1;33m\u001b[0m\u001b[1;33m\u001b[0m\u001b[0m\n\u001b[1;32m----> 6\u001b[1;33m         \u001b[1;32mfor\u001b[0m \u001b[0mcompany_counter\u001b[0m\u001b[1;33m,\u001b[0m \u001b[0mcompany\u001b[0m \u001b[1;32min\u001b[0m \u001b[0menumerate\u001b[0m\u001b[1;33m(\u001b[0m\u001b[0mliteral_eval\u001b[0m\u001b[1;33m(\u001b[0m\u001b[0mmovie\u001b[0m\u001b[1;33m[\u001b[0m\u001b[1;34m'production_companies'\u001b[0m\u001b[1;33m]\u001b[0m\u001b[1;33m)\u001b[0m\u001b[1;33m)\u001b[0m\u001b[1;33m:\u001b[0m\u001b[1;33m\u001b[0m\u001b[1;33m\u001b[0m\u001b[0m\n\u001b[0m\u001b[0;32m      7\u001b[0m             \u001b[0mcompany_list\u001b[0m\u001b[1;33m.\u001b[0m\u001b[0mappend\u001b[0m\u001b[1;33m(\u001b[0m\u001b[0mcompany\u001b[0m\u001b[1;33m.\u001b[0m\u001b[0mget\u001b[0m\u001b[1;33m(\u001b[0m\u001b[1;34m'name'\u001b[0m\u001b[1;33m)\u001b[0m\u001b[1;33m)\u001b[0m\u001b[1;33m\u001b[0m\u001b[1;33m\u001b[0m\u001b[0m\n\u001b[0;32m      8\u001b[0m     \u001b[1;32mexcept\u001b[0m \u001b[0mValueError\u001b[0m\u001b[1;33m:\u001b[0m\u001b[1;33m\u001b[0m\u001b[1;33m\u001b[0m\u001b[0m\n",
      "\u001b[1;31mTypeError\u001b[0m: 'bool' object is not iterable"
     ]
    }
   ],
   "source": [
    "parse_companies_df = pd.DataFrame()\n",
    "\n",
    "for row_number, movie in prod_company.iterrows():\n",
    "    company_list = []\n",
    "    try:\n",
    "        for company_counter, company in enumerate(literal_eval(movie['production_companies'])):\n",
    "            company_list.append(company.get('name'))\n",
    "    except ValueError:\n",
    "        pass\n",
    "        \n",
    "    parse_companies_df = parse_companies_df.append({'id': movie['id'],\n",
    "                                                   'production_companies': ', '.join(map(str, company_list))},\n",
    "                                           ignore_index=True,\n",
    "                                           sort=False)"
   ]
  },
  {
   "cell_type": "code",
   "execution_count": null,
   "metadata": {},
   "outputs": [],
   "source": [
    "df.drop(['genres', 'production_companies'], axis=1, inplace = True)"
   ]
  },
  {
   "cell_type": "code",
   "execution_count": null,
   "metadata": {},
   "outputs": [],
   "source": [
    "df = df.merge(parse_companies_df, on=\"id\")"
   ]
  },
  {
   "cell_type": "code",
   "execution_count": null,
   "metadata": {},
   "outputs": [],
   "source": [
    "df = df.merge(parse_genre_df, on=\"id\")"
   ]
  },
  {
   "cell_type": "code",
   "execution_count": null,
   "metadata": {},
   "outputs": [],
   "source": [
    "df.to_csv('new_movie_metadata.csv', index=False)"
   ]
  },
  {
   "cell_type": "markdown",
   "metadata": {},
   "source": [
    "Yearly Production Studio Spend || Completed by Brian"
   ]
  },
  {
   "cell_type": "code",
   "execution_count": null,
   "metadata": {},
   "outputs": [],
   "source": [
    "csv_file = \"new_movie_metadata.csv\"\n",
    "\n",
    "df = pd.read_csv(csv_file, header= 0, encoding= 'unicode_escape')"
   ]
  },
  {
   "cell_type": "code",
   "execution_count": null,
   "metadata": {},
   "outputs": [],
   "source": [
    "release_date = df[['id','release_date']].head()"
   ]
  },
  {
   "cell_type": "code",
   "execution_count": null,
   "metadata": {},
   "outputs": [],
   "source": [
    "#a for loop to pick up dates in the excel that are messy.\n",
    "year_list = []\n",
    "\n",
    "for row_number, date in df[\"release_date\"].items():\n",
    "    if isinstance(date, float) or len(date) <=3:\n",
    "        year_list.append(None)\n",
    "    else:\n",
    "        try:\n",
    "            date_year = datetime.strptime(date, \"%m/%d/%Y\")\n",
    "            year_list.append(date_year.year)\n",
    "        except ValueError:\n",
    "            date_year = datetime.strptime(date, \"%Y-%m-%d\")\n",
    "            year_list.append(date_year.year)"
   ]
  },
  {
   "cell_type": "code",
   "execution_count": null,
   "metadata": {},
   "outputs": [],
   "source": [
    "#new column, who dis?\n",
    "df[\"release_year\"] = year_list"
   ]
  },
  {
   "cell_type": "code",
   "execution_count": null,
   "metadata": {},
   "outputs": [],
   "source": [
    "df.columns"
   ]
  },
  {
   "cell_type": "code",
   "execution_count": null,
   "metadata": {},
   "outputs": [],
   "source": [
    "df[[\"release_date\",\"release_year\"]]"
   ]
  },
  {
   "cell_type": "code",
   "execution_count": null,
   "metadata": {},
   "outputs": [],
   "source": [
    "production = df[[\"production_companies\",\"revenue\",\"budget\",\"title\",\"release_year\"]].copy()"
   ]
  },
  {
   "cell_type": "code",
   "execution_count": null,
   "metadata": {},
   "outputs": [],
   "source": [
    "production = production.dropna(subset=['title','production_companies'])"
   ]
  },
  {
   "cell_type": "code",
   "execution_count": null,
   "metadata": {},
   "outputs": [],
   "source": [
    "top = production.sort_values(by = [\"revenue\"],ascending = False)"
   ]
  },
  {
   "cell_type": "code",
   "execution_count": null,
   "metadata": {},
   "outputs": [],
   "source": [
    "#filtering production companies with Marvel in string\n",
    "Marvel = production[production['production_companies'].str.contains('Marvel')]"
   ]
  },
  {
   "cell_type": "code",
   "execution_count": null,
   "metadata": {},
   "outputs": [],
   "source": [
    "#looking at the most recent film in the table\n",
    "sort_year = Marvel.sort_values(by = [\"release_year\"],ascending = False)"
   ]
  },
  {
   "cell_type": "code",
   "execution_count": null,
   "metadata": {},
   "outputs": [],
   "source": [
    "#sorting by title since this table didn't have an index prior. dropped films that had 0 info\n",
    "top_ten = sort_year.set_index('title').drop(['Team Thor','Marvel Studios: Assembling a Universe',\n",
    "                                             'Marvel One-Shot: All Hail the King',\n",
    "                                             'Iron Man & Captain America: Heroes United',\n",
    "                                             'Marvel: 75 Years, From Pulp to Pop!','Iron Man & Hulk: Heroes United',\n",
    "                                             'Marvel One-Shot: Agent Carter','Marvel One-Shot: Item 47',\n",
    "                                             'Thor: Tales of Asgard','Planet Hulk'])"
   ]
  },
  {
   "cell_type": "code",
   "execution_count": null,
   "metadata": {},
   "outputs": [],
   "source": [
    "top_ten.head(57)"
   ]
  },
  {
   "cell_type": "code",
   "execution_count": null,
   "metadata": {},
   "outputs": [],
   "source": [
    "#reseting the index\n",
    "top_ten.reset_index(level='title')"
   ]
  },
  {
   "cell_type": "code",
   "execution_count": null,
   "metadata": {},
   "outputs": [],
   "source": [
    "#convert budget to float since sum below wouldnt work as a object\n",
    "top_ten[\"budget\"] = top_ten[\"budget\"].astype(float)"
   ]
  },
  {
   "cell_type": "code",
   "execution_count": null,
   "metadata": {},
   "outputs": [],
   "source": [
    "revenue_sum = top_ten.groupby(['release_year'])['revenue'].sum()\n",
    "\n",
    "budget_sum = top_ten.groupby(['release_year'])['budget'].sum()"
   ]
  },
  {
   "cell_type": "code",
   "execution_count": null,
   "metadata": {},
   "outputs": [],
   "source": [
    "merge_inner = pd.merge(left=revenue_sum, right=budget_sum, left_on='release_year', right_on='release_year')"
   ]
  },
  {
   "cell_type": "code",
   "execution_count": null,
   "metadata": {},
   "outputs": [],
   "source": [
    "#final table with total revenue and budget per year\n",
    "merge_inner.sort_values(by = [\"release_year\"],ascending = False)"
   ]
  },
  {
   "cell_type": "markdown",
   "metadata": {},
   "source": [
    "Franchise Code || Completed by Kirsten"
   ]
  },
  {
   "cell_type": "code",
   "execution_count": null,
   "metadata": {},
   "outputs": [],
   "source": [
    "#Pull website data and extract table\n",
    "url = 'https://www.the-numbers.com/movies/franchises'\n",
    "\n",
    "response = requests.get(url)\n",
    "\n",
    "tables = pd.read_html(response.text)\n",
    "\n",
    "f_all_data_df = tables[0]"
   ]
  },
  {
   "cell_type": "code",
   "execution_count": null,
   "metadata": {},
   "outputs": [],
   "source": [
    "#Keep relevant rows: Franchise name and Worldwide Box Office\n",
    "franchise_df = f_all_data_df[[\"Franchise\", \"Worldwide Box Office\"]]"
   ]
  },
  {
   "cell_type": "code",
   "execution_count": null,
   "metadata": {},
   "outputs": [],
   "source": [
    "#Remove currency formatting and drop franchises with no value or 0  \n",
    "franchise_df['Worldwide Box Office'] = franchise_df['Worldwide Box Office'].str.replace(',', '')\n",
    "franchise_df['Worldwide Box Office'] = franchise_df['Worldwide Box Office'].str.replace('$', '')\n",
    "franchise_df['Worldwide Box Office'] = franchise_df['Worldwide Box Office'].astype(float)\n",
    "\n",
    "franchise_df.replace(0, np.nan, inplace=True)\n",
    "franchise_df.dropna(inplace=True)"
   ]
  },
  {
   "cell_type": "code",
   "execution_count": null,
   "metadata": {},
   "outputs": [],
   "source": [
    "#Export franchise data\n",
    "#franchise_df.to_csv('franchise_df.csv', index=False)"
   ]
  },
  {
   "cell_type": "code",
   "execution_count": null,
   "metadata": {},
   "outputs": [],
   "source": [
    "#Read metadata CSV\n",
    "csv_file = \"new_movie_metadata.csv\"\n",
    "\n",
    "metadata_df = pd.read_csv(csv_file, header= 0, encoding= 'unicode_escape', low_memory=False)"
   ]
  },
  {
   "cell_type": "code",
   "execution_count": null,
   "metadata": {},
   "outputs": [],
   "source": [
    "#Keep relevant rows: original_title, collection, revenue. Drop rows with 0 value\n",
    "franchise_single = metadata_df[['original_title', 'belongs_to_collection', 'revenue']]\n",
    "\n",
    "franchise_single.astype({'revenue': 'float64'}).dtypes\n",
    "\n",
    "franchise_single = franchise_single.query(\"revenue > 0\")\n",
    "franchise_single = franchise_single.reset_index(drop=True)\n",
    "franchise_single.dropna(inplace=True)"
   ]
  },
  {
   "cell_type": "code",
   "execution_count": null,
   "metadata": {},
   "outputs": [],
   "source": [
    "#Export data for individual movies\n",
    "#franchise_single.to_csv('metadata_franchise.csv', index=False)"
   ]
  },
  {
   "cell_type": "code",
   "execution_count": null,
   "metadata": {},
   "outputs": [],
   "source": [
    "#Create empty dataframe for final table\n",
    "final_table = pd.DataFrame (columns = ['Franchise', 'Movie Title','Movie Revenue', \n",
    "                                       'Total Franchise Revenue', '% of Total Franchise Revenue'])"
   ]
  },
  {
   "cell_type": "code",
   "execution_count": null,
   "metadata": {},
   "outputs": [],
   "source": [
    "#Match if collection contains franchise name and input desired data into final table\n",
    "for idx, fn in franchise_df.iterrows():\n",
    "    search = fn[\"Franchise\"]\n",
    "    wwbo = fn[\"Worldwide Box Office\"]\n",
    "    title_match = franchise_single[\"belongs_to_collection\"].str.contains(search)\n",
    "    indexes = (title_match[title_match==True].index.values)\n",
    "    \n",
    "    revenue = franchise_single.loc[indexes, 'revenue'] \n",
    "    movie_title = franchise_single.loc[indexes, 'original_title'] \n",
    "    franchise_performance = (revenue / wwbo)*100\n",
    "\n",
    "    final_data = {'Franchise': search, 'Movie Title': movie_title, 'Movie Revenue': revenue, \n",
    "                  'Total Franchise Revenue': wwbo, '% of Total Franchise Revenue': franchise_performance}\n",
    "    final_table = final_table.append(pd.DataFrame(final_data, columns= ['Franchise', 'Movie Title', \n",
    "                                                                        'Movie Revenue', 'Total Franchise Revenue', \n",
    "                                                                        '% of Total Franchise Revenue']),ignore_index=True)"
   ]
  },
  {
   "cell_type": "code",
   "execution_count": null,
   "metadata": {},
   "outputs": [],
   "source": [
    "#Clean final table\n",
    "delete='[REC]'\n",
    "\n",
    "clean_final = final_table[final_table.Franchise != delete]\n",
    "\n",
    "#Export final table to CSV\n",
    "clean_final.to_csv('Franchise_Performance_By_Movie.csv', index=False)"
   ]
  }
 ],
 "metadata": {
  "kernelspec": {
   "display_name": "Python 3",
   "language": "python",
   "name": "python3"
  },
  "language_info": {
   "codemirror_mode": {
    "name": "ipython",
    "version": 3
   },
   "file_extension": ".py",
   "mimetype": "text/x-python",
   "name": "python",
   "nbconvert_exporter": "python",
   "pygments_lexer": "ipython3",
   "version": "3.7.4"
  }
 },
 "nbformat": 4,
 "nbformat_minor": 2
}
