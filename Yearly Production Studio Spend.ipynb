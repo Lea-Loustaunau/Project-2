{
 "cells": [
  {
   "cell_type": "code",
   "execution_count": 2,
   "metadata": {},
   "outputs": [],
   "source": [
    "import pandas as pd\n",
    "from ast import literal_eval\n",
    "from datetime import datetime"
   ]
  },
  {
   "cell_type": "code",
   "execution_count": 3,
   "metadata": {},
   "outputs": [
    {
     "name": "stderr",
     "output_type": "stream",
     "text": [
      "C:\\Users\\bvera\\Anaconda3\\lib\\site-packages\\IPython\\core\\interactiveshell.py:3058: DtypeWarning: Columns (0,2,4,9) have mixed types. Specify dtype option on import or set low_memory=False.\n",
      "  interactivity=interactivity, compiler=compiler, result=result)\n"
     ]
    }
   ],
   "source": [
    "#using the new csv file here\n",
    "csv_file = \"new_movie_metadata.csv\"\n",
    "\n",
    "df = pd.read_csv(csv_file, header= 0, encoding= 'unicode_escape')\n"
   ]
  },
  {
   "cell_type": "code",
   "execution_count": 4,
   "metadata": {},
   "outputs": [
    {
     "data": {
      "text/plain": [
       "Index(['adult', 'belongs_to_collection', 'budget', 'homepage', 'id', 'imdb_id',\n",
       "       'original_language', 'original_title', 'overview', 'popularity',\n",
       "       'poster_path', 'production_countries', 'release_date', 'revenue',\n",
       "       'runtime', 'spoken_languages', 'status', 'tagline', 'title', 'video',\n",
       "       'vote_average', 'vote_count', 'production_companies', 'genre'],\n",
       "      dtype='object')"
      ]
     },
     "execution_count": 4,
     "metadata": {},
     "output_type": "execute_result"
    }
   ],
   "source": [
    "df.columns"
   ]
  },
  {
   "cell_type": "code",
   "execution_count": 5,
   "metadata": {},
   "outputs": [
    {
     "data": {
      "text/plain": [
       "0        10/21/1988\n",
       "1        10/16/1986\n",
       "2         12/9/1995\n",
       "3        10/15/1993\n",
       "4         5/25/1977\n",
       "            ...    \n",
       "45627     6/28/2017\n",
       "45628     2/19/1956\n",
       "45629      1/1/1956\n",
       "45630     7/28/2017\n",
       "45631      8/2/1984\n",
       "Name: release_date, Length: 45632, dtype: object"
      ]
     },
     "execution_count": 5,
     "metadata": {},
     "output_type": "execute_result"
    }
   ],
   "source": [
    "df[\"release_date\"]"
   ]
  },
  {
   "cell_type": "code",
   "execution_count": 6,
   "metadata": {},
   "outputs": [],
   "source": [
    "release_date = df[['id','release_date']].head()"
   ]
  },
  {
   "cell_type": "code",
   "execution_count": 7,
   "metadata": {},
   "outputs": [
    {
     "data": {
      "text/html": [
       "<div>\n",
       "<style scoped>\n",
       "    .dataframe tbody tr th:only-of-type {\n",
       "        vertical-align: middle;\n",
       "    }\n",
       "\n",
       "    .dataframe tbody tr th {\n",
       "        vertical-align: top;\n",
       "    }\n",
       "\n",
       "    .dataframe thead th {\n",
       "        text-align: right;\n",
       "    }\n",
       "</style>\n",
       "<table border=\"1\" class=\"dataframe\">\n",
       "  <thead>\n",
       "    <tr style=\"text-align: right;\">\n",
       "      <th></th>\n",
       "      <th>id</th>\n",
       "      <th>release_date</th>\n",
       "    </tr>\n",
       "  </thead>\n",
       "  <tbody>\n",
       "    <tr>\n",
       "      <td>0</td>\n",
       "      <td>2</td>\n",
       "      <td>10/21/1988</td>\n",
       "    </tr>\n",
       "    <tr>\n",
       "      <td>1</td>\n",
       "      <td>3</td>\n",
       "      <td>10/16/1986</td>\n",
       "    </tr>\n",
       "    <tr>\n",
       "      <td>2</td>\n",
       "      <td>5</td>\n",
       "      <td>12/9/1995</td>\n",
       "    </tr>\n",
       "    <tr>\n",
       "      <td>3</td>\n",
       "      <td>6</td>\n",
       "      <td>10/15/1993</td>\n",
       "    </tr>\n",
       "    <tr>\n",
       "      <td>4</td>\n",
       "      <td>11</td>\n",
       "      <td>5/25/1977</td>\n",
       "    </tr>\n",
       "  </tbody>\n",
       "</table>\n",
       "</div>"
      ],
      "text/plain": [
       "   id release_date\n",
       "0   2   10/21/1988\n",
       "1   3   10/16/1986\n",
       "2   5    12/9/1995\n",
       "3   6   10/15/1993\n",
       "4  11    5/25/1977"
      ]
     },
     "execution_count": 7,
     "metadata": {},
     "output_type": "execute_result"
    }
   ],
   "source": [
    "release_date"
   ]
  },
  {
   "cell_type": "code",
   "execution_count": 8,
   "metadata": {},
   "outputs": [],
   "source": [
    "#a for loop to pick up dates in the excel that are messy.\n",
    "year_list = []\n",
    "\n",
    "for row_number, date in df[\"release_date\"].items():\n",
    "    if isinstance(date, float) or len(date) <=3:\n",
    "        year_list.append(None)\n",
    "    else:\n",
    "        try:\n",
    "            date_year = datetime.strptime(date, \"%m/%d/%Y\")\n",
    "            year_list.append(date_year.year)\n",
    "        except ValueError:\n",
    "            date_year = datetime.strptime(date, \"%Y-%m-%d\")\n",
    "            year_list.append(date_year.year)"
   ]
  },
  {
   "cell_type": "code",
   "execution_count": 9,
   "metadata": {},
   "outputs": [],
   "source": [
    "#new column, who dis?\n",
    "df[\"release_year\"] = year_list"
   ]
  },
  {
   "cell_type": "code",
   "execution_count": 10,
   "metadata": {},
   "outputs": [
    {
     "data": {
      "text/plain": [
       "Index(['adult', 'belongs_to_collection', 'budget', 'homepage', 'id', 'imdb_id',\n",
       "       'original_language', 'original_title', 'overview', 'popularity',\n",
       "       'poster_path', 'production_countries', 'release_date', 'revenue',\n",
       "       'runtime', 'spoken_languages', 'status', 'tagline', 'title', 'video',\n",
       "       'vote_average', 'vote_count', 'production_companies', 'genre',\n",
       "       'release_year'],\n",
       "      dtype='object')"
      ]
     },
     "execution_count": 10,
     "metadata": {},
     "output_type": "execute_result"
    }
   ],
   "source": [
    "df.columns"
   ]
  },
  {
   "cell_type": "code",
   "execution_count": 11,
   "metadata": {},
   "outputs": [
    {
     "data": {
      "text/html": [
       "<div>\n",
       "<style scoped>\n",
       "    .dataframe tbody tr th:only-of-type {\n",
       "        vertical-align: middle;\n",
       "    }\n",
       "\n",
       "    .dataframe tbody tr th {\n",
       "        vertical-align: top;\n",
       "    }\n",
       "\n",
       "    .dataframe thead th {\n",
       "        text-align: right;\n",
       "    }\n",
       "</style>\n",
       "<table border=\"1\" class=\"dataframe\">\n",
       "  <thead>\n",
       "    <tr style=\"text-align: right;\">\n",
       "      <th></th>\n",
       "      <th>release_date</th>\n",
       "      <th>release_year</th>\n",
       "    </tr>\n",
       "  </thead>\n",
       "  <tbody>\n",
       "    <tr>\n",
       "      <td>0</td>\n",
       "      <td>10/21/1988</td>\n",
       "      <td>1988.0</td>\n",
       "    </tr>\n",
       "    <tr>\n",
       "      <td>1</td>\n",
       "      <td>10/16/1986</td>\n",
       "      <td>1986.0</td>\n",
       "    </tr>\n",
       "    <tr>\n",
       "      <td>2</td>\n",
       "      <td>12/9/1995</td>\n",
       "      <td>1995.0</td>\n",
       "    </tr>\n",
       "    <tr>\n",
       "      <td>3</td>\n",
       "      <td>10/15/1993</td>\n",
       "      <td>1993.0</td>\n",
       "    </tr>\n",
       "    <tr>\n",
       "      <td>4</td>\n",
       "      <td>5/25/1977</td>\n",
       "      <td>1977.0</td>\n",
       "    </tr>\n",
       "    <tr>\n",
       "      <td>...</td>\n",
       "      <td>...</td>\n",
       "      <td>...</td>\n",
       "    </tr>\n",
       "    <tr>\n",
       "      <td>45627</td>\n",
       "      <td>6/28/2017</td>\n",
       "      <td>2017.0</td>\n",
       "    </tr>\n",
       "    <tr>\n",
       "      <td>45628</td>\n",
       "      <td>2/19/1956</td>\n",
       "      <td>1956.0</td>\n",
       "    </tr>\n",
       "    <tr>\n",
       "      <td>45629</td>\n",
       "      <td>1/1/1956</td>\n",
       "      <td>1956.0</td>\n",
       "    </tr>\n",
       "    <tr>\n",
       "      <td>45630</td>\n",
       "      <td>7/28/2017</td>\n",
       "      <td>2017.0</td>\n",
       "    </tr>\n",
       "    <tr>\n",
       "      <td>45631</td>\n",
       "      <td>8/2/1984</td>\n",
       "      <td>1984.0</td>\n",
       "    </tr>\n",
       "  </tbody>\n",
       "</table>\n",
       "<p>45632 rows × 2 columns</p>\n",
       "</div>"
      ],
      "text/plain": [
       "      release_date  release_year\n",
       "0       10/21/1988        1988.0\n",
       "1       10/16/1986        1986.0\n",
       "2        12/9/1995        1995.0\n",
       "3       10/15/1993        1993.0\n",
       "4        5/25/1977        1977.0\n",
       "...            ...           ...\n",
       "45627    6/28/2017        2017.0\n",
       "45628    2/19/1956        1956.0\n",
       "45629     1/1/1956        1956.0\n",
       "45630    7/28/2017        2017.0\n",
       "45631     8/2/1984        1984.0\n",
       "\n",
       "[45632 rows x 2 columns]"
      ]
     },
     "execution_count": 11,
     "metadata": {},
     "output_type": "execute_result"
    }
   ],
   "source": [
    "df[[\"release_date\",\"release_year\"]]"
   ]
  },
  {
   "cell_type": "code",
   "execution_count": 12,
   "metadata": {},
   "outputs": [],
   "source": [
    "production = df[[\"title\",\"release_year\",\"budget\",\"revenue\",\"production_companies\"]].copy()"
   ]
  },
  {
   "cell_type": "code",
   "execution_count": 13,
   "metadata": {},
   "outputs": [
    {
     "data": {
      "text/html": [
       "<div>\n",
       "<style scoped>\n",
       "    .dataframe tbody tr th:only-of-type {\n",
       "        vertical-align: middle;\n",
       "    }\n",
       "\n",
       "    .dataframe tbody tr th {\n",
       "        vertical-align: top;\n",
       "    }\n",
       "\n",
       "    .dataframe thead th {\n",
       "        text-align: right;\n",
       "    }\n",
       "</style>\n",
       "<table border=\"1\" class=\"dataframe\">\n",
       "  <thead>\n",
       "    <tr style=\"text-align: right;\">\n",
       "      <th></th>\n",
       "      <th>title</th>\n",
       "      <th>release_year</th>\n",
       "      <th>budget</th>\n",
       "      <th>revenue</th>\n",
       "      <th>production_companies</th>\n",
       "    </tr>\n",
       "  </thead>\n",
       "  <tbody>\n",
       "    <tr>\n",
       "      <td>25958</td>\n",
       "      <td>Avatar 2</td>\n",
       "      <td>2020.0</td>\n",
       "      <td>0</td>\n",
       "      <td>0.0</td>\n",
       "      <td>Twentieth Century Fox Film Corporation, Lights...</td>\n",
       "    </tr>\n",
       "    <tr>\n",
       "      <td>42308</td>\n",
       "      <td>Mary Shelley</td>\n",
       "      <td>2018.0</td>\n",
       "      <td>0</td>\n",
       "      <td>0.0</td>\n",
       "      <td>Parallel Films, Bord Scannan na hEireann / Iri...</td>\n",
       "    </tr>\n",
       "    <tr>\n",
       "      <td>15926</td>\n",
       "      <td>Bad Boys for Life</td>\n",
       "      <td>2018.0</td>\n",
       "      <td>0</td>\n",
       "      <td>0.0</td>\n",
       "      <td>Columbia Pictures, Sony Pictures, Jerry Bruckh...</td>\n",
       "    </tr>\n",
       "    <tr>\n",
       "      <td>41284</td>\n",
       "      <td>Iron Sky: The Coming Race</td>\n",
       "      <td>2018.0</td>\n",
       "      <td>18000000</td>\n",
       "      <td>0.0</td>\n",
       "      <td>27 Films Production, Potemkino, Iron sky universe</td>\n",
       "    </tr>\n",
       "    <tr>\n",
       "      <td>44962</td>\n",
       "      <td>Mobile Homes</td>\n",
       "      <td>2018.0</td>\n",
       "      <td>0</td>\n",
       "      <td>0.0</td>\n",
       "      <td>NaN</td>\n",
       "    </tr>\n",
       "    <tr>\n",
       "      <td>...</td>\n",
       "      <td>...</td>\n",
       "      <td>...</td>\n",
       "      <td>...</td>\n",
       "      <td>...</td>\n",
       "      <td>...</td>\n",
       "    </tr>\n",
       "    <tr>\n",
       "      <td>45530</td>\n",
       "      <td>Half -Life</td>\n",
       "      <td>NaN</td>\n",
       "      <td>0</td>\n",
       "      <td>0.0</td>\n",
       "      <td>Bad Robot, Valve, Wishbone Films, Wishbone Fil...</td>\n",
       "    </tr>\n",
       "    <tr>\n",
       "      <td>45540</td>\n",
       "      <td>Aprel</td>\n",
       "      <td>NaN</td>\n",
       "      <td>0</td>\n",
       "      <td>0.0</td>\n",
       "      <td>NaN</td>\n",
       "    </tr>\n",
       "    <tr>\n",
       "      <td>45562</td>\n",
       "      <td>Supermassive Black Holes</td>\n",
       "      <td>NaN</td>\n",
       "      <td>0</td>\n",
       "      <td>0.0</td>\n",
       "      <td>NaN</td>\n",
       "    </tr>\n",
       "    <tr>\n",
       "      <td>45571</td>\n",
       "      <td>Dance of Outlaws</td>\n",
       "      <td>NaN</td>\n",
       "      <td>0</td>\n",
       "      <td>0.0</td>\n",
       "      <td>NaN</td>\n",
       "    </tr>\n",
       "    <tr>\n",
       "      <td>45588</td>\n",
       "      <td>Neither Wolf Nor Dog</td>\n",
       "      <td>NaN</td>\n",
       "      <td>0</td>\n",
       "      <td>0.0</td>\n",
       "      <td>NaN</td>\n",
       "    </tr>\n",
       "  </tbody>\n",
       "</table>\n",
       "<p>45632 rows × 5 columns</p>\n",
       "</div>"
      ],
      "text/plain": [
       "                           title  release_year    budget  revenue  \\\n",
       "25958                   Avatar 2        2020.0         0      0.0   \n",
       "42308               Mary Shelley        2018.0         0      0.0   \n",
       "15926          Bad Boys for Life        2018.0         0      0.0   \n",
       "41284  Iron Sky: The Coming Race        2018.0  18000000      0.0   \n",
       "44962               Mobile Homes        2018.0         0      0.0   \n",
       "...                          ...           ...       ...      ...   \n",
       "45530                 Half -Life           NaN         0      0.0   \n",
       "45540                      Aprel           NaN         0      0.0   \n",
       "45562   Supermassive Black Holes           NaN         0      0.0   \n",
       "45571           Dance of Outlaws           NaN         0      0.0   \n",
       "45588       Neither Wolf Nor Dog           NaN         0      0.0   \n",
       "\n",
       "                                    production_companies  \n",
       "25958  Twentieth Century Fox Film Corporation, Lights...  \n",
       "42308  Parallel Films, Bord Scannan na hEireann / Iri...  \n",
       "15926  Columbia Pictures, Sony Pictures, Jerry Bruckh...  \n",
       "41284  27 Films Production, Potemkino, Iron sky universe  \n",
       "44962                                                NaN  \n",
       "...                                                  ...  \n",
       "45530  Bad Robot, Valve, Wishbone Films, Wishbone Fil...  \n",
       "45540                                                NaN  \n",
       "45562                                                NaN  \n",
       "45571                                                NaN  \n",
       "45588                                                NaN  \n",
       "\n",
       "[45632 rows x 5 columns]"
      ]
     },
     "execution_count": 13,
     "metadata": {},
     "output_type": "execute_result"
    }
   ],
   "source": [
    "production.sort_values(by = [\"release_year\"],ascending = False)"
   ]
  },
  {
   "cell_type": "code",
   "execution_count": null,
   "metadata": {},
   "outputs": [],
   "source": []
  }
 ],
 "metadata": {
  "kernelspec": {
   "display_name": "Python 3",
   "language": "python",
   "name": "python3"
  },
  "language_info": {
   "codemirror_mode": {
    "name": "ipython",
    "version": 3
   },
   "file_extension": ".py",
   "mimetype": "text/x-python",
   "name": "python",
   "nbconvert_exporter": "python",
   "pygments_lexer": "ipython3",
   "version": "3.7.4"
  }
 },
 "nbformat": 4,
 "nbformat_minor": 2
}
