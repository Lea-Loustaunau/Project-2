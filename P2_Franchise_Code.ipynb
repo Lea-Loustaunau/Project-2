{
 "cells": [
  {
   "cell_type": "code",
   "execution_count": 1,
   "metadata": {},
   "outputs": [],
   "source": [
    "# Dependencies\n",
    "import pandas as pd\n",
    "import requests\n",
    "import numpy as np"
   ]
  },
  {
   "cell_type": "code",
   "execution_count": 2,
   "metadata": {},
   "outputs": [],
   "source": [
    "#Pull website data and extract table\n",
    "url = 'https://www.the-numbers.com/movies/franchises'\n",
    "\n",
    "response = requests.get(url)\n",
    "\n",
    "tables = pd.read_html(response.text)\n",
    "\n",
    "f_all_data_df = tables[0]"
   ]
  },
  {
   "cell_type": "code",
   "execution_count": 3,
   "metadata": {},
   "outputs": [],
   "source": [
    "#Keep relevant rows: Franchise name and Worldwide Box Office\n",
    "franchise_df = f_all_data_df[[\"Franchise\", \"Worldwide Box Office\"]]"
   ]
  },
  {
   "cell_type": "code",
   "execution_count": 4,
   "metadata": {},
   "outputs": [
    {
     "name": "stderr",
     "output_type": "stream",
     "text": [
      "C:\\Users\\kirst\\AppData\\Local\\Continuum\\anaconda3\\lib\\site-packages\\ipykernel_launcher.py:2: SettingWithCopyWarning: \n",
      "A value is trying to be set on a copy of a slice from a DataFrame.\n",
      "Try using .loc[row_indexer,col_indexer] = value instead\n",
      "\n",
      "See the caveats in the documentation: http://pandas.pydata.org/pandas-docs/stable/user_guide/indexing.html#returning-a-view-versus-a-copy\n",
      "  \n",
      "C:\\Users\\kirst\\AppData\\Local\\Continuum\\anaconda3\\lib\\site-packages\\ipykernel_launcher.py:3: SettingWithCopyWarning: \n",
      "A value is trying to be set on a copy of a slice from a DataFrame.\n",
      "Try using .loc[row_indexer,col_indexer] = value instead\n",
      "\n",
      "See the caveats in the documentation: http://pandas.pydata.org/pandas-docs/stable/user_guide/indexing.html#returning-a-view-versus-a-copy\n",
      "  This is separate from the ipykernel package so we can avoid doing imports until\n",
      "C:\\Users\\kirst\\AppData\\Local\\Continuum\\anaconda3\\lib\\site-packages\\ipykernel_launcher.py:4: SettingWithCopyWarning: \n",
      "A value is trying to be set on a copy of a slice from a DataFrame.\n",
      "Try using .loc[row_indexer,col_indexer] = value instead\n",
      "\n",
      "See the caveats in the documentation: http://pandas.pydata.org/pandas-docs/stable/user_guide/indexing.html#returning-a-view-versus-a-copy\n",
      "  after removing the cwd from sys.path.\n",
      "C:\\Users\\kirst\\AppData\\Local\\Continuum\\anaconda3\\lib\\site-packages\\pandas\\core\\frame.py:4263: SettingWithCopyWarning: \n",
      "A value is trying to be set on a copy of a slice from a DataFrame\n",
      "\n",
      "See the caveats in the documentation: http://pandas.pydata.org/pandas-docs/stable/user_guide/indexing.html#returning-a-view-versus-a-copy\n",
      "  method=method,\n",
      "C:\\Users\\kirst\\AppData\\Local\\Continuum\\anaconda3\\lib\\site-packages\\ipykernel_launcher.py:7: SettingWithCopyWarning: \n",
      "A value is trying to be set on a copy of a slice from a DataFrame\n",
      "\n",
      "See the caveats in the documentation: http://pandas.pydata.org/pandas-docs/stable/user_guide/indexing.html#returning-a-view-versus-a-copy\n",
      "  import sys\n"
     ]
    }
   ],
   "source": [
    "#Remove currency formatting and drop franchises with no value or 0  \n",
    "franchise_df['Worldwide Box Office'] = franchise_df['Worldwide Box Office'].str.replace(',', '')\n",
    "franchise_df['Worldwide Box Office'] = franchise_df['Worldwide Box Office'].str.replace('$', '')\n",
    "franchise_df['Worldwide Box Office'] = franchise_df['Worldwide Box Office'].astype(float)\n",
    "\n",
    "franchise_df.replace(0, np.nan, inplace=True)\n",
    "franchise_df.dropna(inplace=True)"
   ]
  },
  {
   "cell_type": "code",
   "execution_count": 5,
   "metadata": {},
   "outputs": [],
   "source": [
    "#Export franchise data\n",
    "#franchise_df.to_csv('franchise_df.csv', index=False)"
   ]
  },
  {
   "cell_type": "code",
   "execution_count": 6,
   "metadata": {},
   "outputs": [],
   "source": [
    "#Read metadata CSV\n",
    "csv_file = \"Desktop/new_movie_metadata.csv\"\n",
    "\n",
    "metadata_df = pd.read_csv(csv_file, header= 0, encoding= 'unicode_escape', low_memory=False)"
   ]
  },
  {
   "cell_type": "code",
   "execution_count": 7,
   "metadata": {},
   "outputs": [],
   "source": [
    "#Keep relevant rows: original_title, collection, revenue. Drop rows with 0 value\n",
    "franchise_single = metadata_df[['original_title', 'belongs_to_collection', 'revenue']]\n",
    "\n",
    "franchise_single.astype({'revenue': 'float64'}).dtypes\n",
    "\n",
    "franchise_single = franchise_single.query(\"revenue > 0\")\n",
    "franchise_single = franchise_single.reset_index(drop=True)\n",
    "franchise_single.dropna(inplace=True)"
   ]
  },
  {
   "cell_type": "code",
   "execution_count": 8,
   "metadata": {},
   "outputs": [],
   "source": [
    "#Export data for individual movies\n",
    "#franchise_single.to_csv('metadata_franchise.csv', index=False)"
   ]
  },
  {
   "cell_type": "code",
   "execution_count": 9,
   "metadata": {},
   "outputs": [],
   "source": [
    "#Create empty dataframe for final table\n",
    "final_table = pd.DataFrame (columns = ['Franchise', 'Movie Title','Movie Revenue', 'Total Franchise Revenue', '% of Total Franchise Revenue'])"
   ]
  },
  {
   "cell_type": "code",
   "execution_count": 10,
   "metadata": {},
   "outputs": [
    {
     "name": "stderr",
     "output_type": "stream",
     "text": [
      "C:\\Users\\kirst\\AppData\\Local\\Continuum\\anaconda3\\lib\\site-packages\\pandas\\core\\strings.py:1843: UserWarning: This pattern has match groups. To actually get the groups, use str.extract.\n",
      "  return func(self, *args, **kwargs)\n"
     ]
    }
   ],
   "source": [
    "#Match if collection contains franchise name and input desired data into final table\n",
    "for idx, fn in franchise_df.iterrows():\n",
    "    search = fn[\"Franchise\"]\n",
    "    wwbo = fn[\"Worldwide Box Office\"]\n",
    "    title_match = franchise_single[\"belongs_to_collection\"].str.contains(search)\n",
    "    indexes = (title_match[title_match==True].index.values)\n",
    "    \n",
    "    revenue = franchise_single.loc[indexes, 'revenue'] \n",
    "    movie_title = franchise_single.loc[indexes, 'original_title'] \n",
    "    franchise_performance = (revenue / wwbo)*100\n",
    "\n",
    "    final_data = {'Franchise': search, 'Movie Title': movie_title, 'Movie Revenue': revenue, 'Total Franchise Revenue': wwbo, '% of Total Franchise Revenue': franchise_performance}\n",
    "    final_table = final_table.append(pd.DataFrame(final_data, columns= ['Franchise', 'Movie Title', 'Movie Revenue', 'Total Franchise Revenue', '% of Total Franchise Revenue']),ignore_index=True)"
   ]
  },
  {
   "cell_type": "code",
   "execution_count": 11,
   "metadata": {},
   "outputs": [],
   "source": [
    "#Clean final table\n",
    "delete='[REC]'\n",
    "\n",
    "clean_final = final_table[final_table.Franchise != delete]\n",
    "\n",
    "#Export final table to CSV\n",
    "clean_final.to_csv('Franchise_Performance_By_Movie.csv', index=False)"
   ]
  },
  {
   "cell_type": "code",
   "execution_count": null,
   "metadata": {},
   "outputs": [],
   "source": []
  }
 ],
 "metadata": {
  "kernelspec": {
   "display_name": "Python 3",
   "language": "python",
   "name": "python3"
  },
  "language_info": {
   "codemirror_mode": {
    "name": "ipython",
    "version": 3
   },
   "file_extension": ".py",
   "mimetype": "text/x-python",
   "name": "python",
   "nbconvert_exporter": "python",
   "pygments_lexer": "ipython3",
   "version": "3.7.4"
  },
  "varInspector": {
   "cols": {
    "lenName": 16,
    "lenType": 16,
    "lenVar": 40
   },
   "kernels_config": {
    "python": {
     "delete_cmd_postfix": "",
     "delete_cmd_prefix": "del ",
     "library": "var_list.py",
     "varRefreshCmd": "print(var_dic_list())"
    },
    "r": {
     "delete_cmd_postfix": ") ",
     "delete_cmd_prefix": "rm(",
     "library": "var_list.r",
     "varRefreshCmd": "cat(var_dic_list()) "
    }
   },
   "types_to_exclude": [
    "module",
    "function",
    "builtin_function_or_method",
    "instance",
    "_Feature"
   ],
   "window_display": false
  }
 },
 "nbformat": 4,
 "nbformat_minor": 2
}
